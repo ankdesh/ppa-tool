{
 "cells": [
  {
   "cell_type": "code",
   "execution_count": 7,
   "metadata": {},
   "outputs": [],
   "source": [
    "import yaml\n",
    "import os"
   ]
  },
  {
   "cell_type": "code",
   "execution_count": 8,
   "metadata": {},
   "outputs": [],
   "source": [
    "def verbose_print (string, verbose_level, verbose_setting):\n",
    "    ''' Print the string with formatting if verbose_level\n",
    "    is more than the verbose_setting assigned to the statement\n",
    "    Lower the verbose_setting, \n",
    "        Args:\n",
    "        string: the string to be printed\n",
    "        verbose_level: current verbose level requested\n",
    "        verbose_setting: Fixed verbosity level of the statement\n",
    "    '''\n",
    "    if verbose_level >= verbose_setting:\n",
    "        if verbose_setting == 0:\n",
    "            print ('[ERROR]: ' + string) # Always printed \n",
    "        elif verbose_setting == 1: \n",
    "            print ('[WARNING]: ' + string) # verbosity_level should be atleast 1\n",
    "        elif verbose_setting == 2:\n",
    "            print ('[INFO]: ' + string) # verbosity_level should be atleast 2\n",
    "        else: \n",
    "            print ('[INFO]: ' + string) # helps to print extremly verbose info"
   ]
  },
  {
   "cell_type": "code",
   "execution_count": 9,
   "metadata": {},
   "outputs": [],
   "source": [
    "def parseArchFile(filePath, verbose=1):\n",
    "    ''' Parses Yaml file and returns component list \n",
    "        \n",
    "        Args:\n",
    "        filePath: Full path of Arch File\n",
    "        vebose: Verbosity level\n",
    "        \n",
    "        Return:\n",
    "        List of dicts of Components and its Basic block conf \n",
    "    '''    \n",
    "    assert os.path.exists(filePath)\n",
    "    \n",
    "    ymlList = yaml.load(open(filePath))\n",
    "    \n",
    "    # TODO Sanity Checks for Components\n",
    "    \n",
    "    verbose_print ('Parsed Arch file: ' + filePath, verbose, 2)\n",
    "    verbose_print (yaml.dump(ymlList), verbose, 3)\n",
    "        \n",
    "    return ymlList"
   ]
  },
  {
   "cell_type": "code",
   "execution_count": 11,
   "metadata": {},
   "outputs": [
    {
     "name": "stdout",
     "output_type": "stream",
     "text": [
      "[INFO]: Parsed Arch file: simple-arch.yaml\n",
      "[INFO]: - Component1: {BasicBlock1.xx: 10, BasicBlock1.xx.yy1: 4}\n",
      "- Component2: {BasicBlock1.xx: 3, Component1: 2}\n",
      "\n",
      "[{'Component1': {'BasicBlock1.xx': 10, 'BasicBlock1.xx.yy1': 4}}, {'Component2': {'Component1': 2, 'BasicBlock1.xx': 3}}]\n"
     ]
    }
   ],
   "source": [
    "print (parseArchFile('simple-arch.yaml',verbose=3))"
   ]
  },
  {
   "cell_type": "code",
   "execution_count": null,
   "metadata": {},
   "outputs": [],
   "source": []
  }
 ],
 "metadata": {
  "kernelspec": {
   "display_name": "Python 3",
   "language": "python",
   "name": "python3"
  },
  "language_info": {
   "codemirror_mode": {
    "name": "ipython",
    "version": 3
   },
   "file_extension": ".py",
   "mimetype": "text/x-python",
   "name": "python",
   "nbconvert_exporter": "python",
   "pygments_lexer": "ipython3",
   "version": "3.5.2"
  }
 },
 "nbformat": 4,
 "nbformat_minor": 2
}
