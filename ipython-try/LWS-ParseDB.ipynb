{
 "cells": [
  {
   "cell_type": "code",
   "execution_count": 10,
   "metadata": {},
   "outputs": [],
   "source": [
    "import yaml\n",
    "import os"
   ]
  },
  {
   "cell_type": "code",
   "execution_count": 11,
   "metadata": {},
   "outputs": [],
   "source": [
    "obj = yaml.load(open('simple-1.yaml'))"
   ]
  },
  {
   "cell_type": "code",
   "execution_count": 12,
   "metadata": {},
   "outputs": [
    {
     "name": "stdout",
     "output_type": "stream",
     "text": [
      "BasicBlock1.xx: {Area: 10}\n",
      "BasicBlock1.xx.yy1: {Area: 100}\n",
      "\n"
     ]
    }
   ],
   "source": [
    "print (yaml.dump(obj))"
   ]
  },
  {
   "cell_type": "code",
   "execution_count": 22,
   "metadata": {},
   "outputs": [],
   "source": [
    "def parseDB(filePath, verbose=1):\n",
    "    ''' Parses Yaml file and returns dict \n",
    "        \n",
    "        Args:\n",
    "        filePath: Full path of DB File\n",
    "        vebose: Verbosity level\n",
    "        \n",
    "        Return:\n",
    "        dict of blocks and its parameters\n",
    "    '''    \n",
    "    assert os.path.exists(filePath)\n",
    "    \n",
    "    ymlDict = yaml.load(open(filePath))\n",
    "    \n",
    "    # TODO Sanity Checks for Components\n",
    "    \n",
    "    if verbose >= 1:\n",
    "        print ('Parsed DB file: ' + filePath)\n",
    "    if verbose >= 2:\n",
    "        print (yaml.dump(ymlDict))\n",
    "        \n",
    "    return ymlDict"
   ]
  },
  {
   "cell_type": "code",
   "execution_count": 24,
   "metadata": {},
   "outputs": [
    {
     "name": "stdout",
     "output_type": "stream",
     "text": [
      "Parsed DB file: simple-1.yaml\n",
      "BasicBlock1.xx: {Area: 10}\n",
      "BasicBlock1.xx.yy1: {Area: 100}\n",
      "\n",
      "{'BasicBlock1.xx.yy1': {'Area': 100}, 'BasicBlock1.xx': {'Area': 10}}\n"
     ]
    }
   ],
   "source": [
    "print (parseDB('simple-1.yaml',verbose=2))"
   ]
  },
  {
   "cell_type": "code",
   "execution_count": null,
   "metadata": {},
   "outputs": [],
   "source": []
  }
 ],
 "metadata": {
  "kernelspec": {
   "display_name": "Python 3",
   "language": "python",
   "name": "python3"
  },
  "language_info": {
   "codemirror_mode": {
    "name": "ipython",
    "version": 3
   },
   "file_extension": ".py",
   "mimetype": "text/x-python",
   "name": "python",
   "nbconvert_exporter": "python",
   "pygments_lexer": "ipython3",
   "version": "3.5.2"
  }
 },
 "nbformat": 4,
 "nbformat_minor": 2
}
